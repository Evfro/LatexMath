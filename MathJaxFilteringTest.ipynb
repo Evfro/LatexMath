{
 "cells": [
  {
   "cell_type": "markdown",
   "metadata": {
    "collapsed": true,
    "run_control": {
     "read_only": false
    }
   },
   "source": [
    "$$\n",
    "\\begin{align*}\n",
    "\\frac{\\partial}{\\partial t} u _i &= {\\rm div} (\\nabla u _i) + \\lambda (u^{(0)}-u _i) \\\\\n",
    "u _i &= u^{(0)} _i \\\\\n",
    "u _i|_{\\partial\\Omega} &= u^{(0)} _i| _{\\partial\\Omega} \\\\\n",
    "\\end{align*}\n",
    "$$"
   ]
  },
  {
   "cell_type": "markdown",
   "metadata": {
    "run_control": {
     "breakpoint": false
    }
   },
   "source": [
    "\\\\[\n",
    "\\begin{align*}\n",
    "\\frac{\\partial}{\\partial t} u_i &= {\\rm div} (\\nabla u_i) + \\lambda (u^{(0)}-u_i) \\\\\n",
    "u_i &= u^{(0)}_i \\\\\n",
    "u_i|_{\\partial\\Omega} &= u^{(0)}_i|_{\\partial\\Omega} \\\\\n",
    "\\end{align*}\n",
    "\\\\]"
   ]
  },
  {
   "cell_type": "markdown",
   "metadata": {
    "run_control": {
     "breakpoint": false
    }
   },
   "source": []
  },
  {
   "cell_type": "markdown",
   "metadata": {
    "run_control": {
     "breakpoint": false
    }
   },
   "source": [
    "$\\Gamma_1 = \\{(x,y)\\in\\partial\\Omega : x=0\\}$"
   ]
  },
  {
   "cell_type": "markdown",
   "metadata": {
    "run_control": {
     "breakpoint": false
    }
   },
   "source": [
    "$\\Gamma_1 = \\{(x,y)\\in\\partial\\Omega : x = 0\\}$"
   ]
  }
 ],
 "metadata": {
  "kernelspec": {
   "display_name": "Python 2",
   "language": "python",
   "name": "python2"
  },
  "language_info": {
   "codemirror_mode": {
    "name": "ipython",
    "version": 2
   },
   "file_extension": ".py",
   "mimetype": "text/x-python",
   "name": "python",
   "nbconvert_exporter": "python",
   "pygments_lexer": "ipython2",
   "version": "2.7.6"
  }
 },
 "nbformat": 4,
 "nbformat_minor": 0
}
