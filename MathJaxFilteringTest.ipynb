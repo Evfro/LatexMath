{
 "cells": [
  {
   "cell_type": "markdown",
   "metadata": {
    "run_control": {
     "breakpoint": false
    }
   },
   "source": [
    "These formulas won't render correctly"
   ]
  },
  {
   "cell_type": "markdown",
   "metadata": {
    "run_control": {
     "breakpoint": false
    }
   },
   "source": [
    "\\\\[\n",
    "\\begin{align*}\n",
    "\\frac{\\partial}{\\partial t} u_i &= {\\rm div} (\\nabla u_i) + \\lambda (u^{(0)}-u_i) \\\\\n",
    "u_i &= u^{(0)}_i \\\\\n",
    "u_i|_{\\partial\\Omega} &= u^{(0)}_i|_{\\partial\\Omega} \\\\\n",
    "\\end{align*}\n",
    "\\\\]"
   ]
  },
  {
   "cell_type": "markdown",
   "metadata": {
    "run_control": {
     "breakpoint": false
    }
   },
   "source": [
    "$\\Gamma_1 = \\{(x,y)\\in\\partial\\Omega : x=0\\}$ (leftmost end), $\\Gamma_2 = \\{(x,y)\\in\\partial\\Omega : 0<x<250\\}$ (middle part), and $\\Gamma_3 = \\{(x,y)\\in\\partial\\Omega : x=250\\}$ (rightmost part)"
   ]
  },
  {
   "cell_type": "markdown",
   "metadata": {
    "run_control": {
     "breakpoint": false
    }
   },
   "source": [
    "Cause: nbviewer uses nbconvert to convert the ipynb to html. Nbconvert in turn uses pandoc to do the conversion and pandoc breaks some latex formulas.\n",
    "http://stackoverflow.com/questions/20024230/display-math-on-nbviewer\n",
    "\n",
    "For fixing this, see\n",
    "\"the easiest way to get your tex math (align) working is to embed it in  $ s\"\n",
    "https://github.com/ipython/ipython/issues/4234/ and \"The workaround being to add spaces so it doesn't match the regex\"\n",
    "https://github.com/ipython/ipython/issues/2289"
   ]
  },
  {
   "cell_type": "markdown",
   "metadata": {
    "run_control": {
     "breakpoint": false
    }
   },
   "source": [
    "After those fixes all formulas are being rendered correctly:"
   ]
  },
  {
   "cell_type": "markdown",
   "metadata": {
    "collapsed": true,
    "run_control": {
     "read_only": false
    }
   },
   "source": [
    "$$\n",
    "\\begin{align*}\n",
    "\\frac{\\partial}{\\partial t} u _i &= {\\rm div} (\\nabla u _i) + \\lambda (u^{(0)}-u _i) \\\\\n",
    "u _i &= u^{(0)} _i \\\\\n",
    "u _i|_{\\partial\\Omega} &= u^{(0)} _i| _{\\partial\\Omega} \\\\\n",
    "\\end{align*}\n",
    "$$"
   ]
  },
  {
   "cell_type": "markdown",
   "metadata": {
    "run_control": {
     "breakpoint": false
    }
   },
   "source": [
    "$\\Gamma_1 = \\{(x,y)\\in\\partial\\Omega : x = 0\\}$ (leftmost end), $\\Gamma_2 = \\{(x,y)\\in\\partial\\Omega : 0 < x < 250\\}$ (middle part), and $\\Gamma_3 = \\{(x,y)\\in\\partial\\Omega : x = 250\\}$ (rightmost part)"
   ]
  },
  {
   "cell_type": "code",
   "execution_count": null,
   "metadata": {
    "collapsed": true,
    "run_control": {
     "breakpoint": false
    }
   },
   "outputs": [],
   "source": []
  }
 ],
 "metadata": {
  "kernelspec": {
   "display_name": "Python 2",
   "language": "python",
   "name": "python2"
  },
  "language_info": {
   "codemirror_mode": {
    "name": "ipython",
    "version": 2
   },
   "file_extension": ".py",
   "mimetype": "text/x-python",
   "name": "python",
   "nbconvert_exporter": "python",
   "pygments_lexer": "ipython2",
   "version": "2.7.6"
  }
 },
 "nbformat": 4,
 "nbformat_minor": 0
}
